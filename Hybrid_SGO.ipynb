{
  "nbformat": 4,
  "nbformat_minor": 0,
  "metadata": {
    "accelerator": "TPU",
    "colab": {
      "name": "Hybrid SGO.ipynb",
      "provenance": [],
      "collapsed_sections": [],
      "machine_shape": "hm"
    },
    "kernelspec": {
      "display_name": "Python 3",
      "name": "python3"
    }
  },
  "cells": [
    {
      "cell_type": "code",
      "metadata": {
        "colab": {
          "base_uri": "https://localhost:8080/"
        },
        "id": "QrWK-6we89ie",
        "outputId": "d654004d-5170-47ab-ac50-d1d6037762c4"
      },
      "source": [
        "import pandas as pd\n",
        "import numpy as np\n",
        "\n",
        "from PIL import Image\n",
        "import os\n",
        "import sys\n",
        "!pip install ipython-autotime\n",
        "\n",
        "%load_ext autotime\n",
        "%matplotlib inline\n"
      ],
      "execution_count": null,
      "outputs": [
        {
          "output_type": "stream",
          "text": [
            "Requirement already satisfied: ipython-autotime in /usr/local/lib/python3.6/dist-packages (0.3.1)\n",
            "Requirement already satisfied: ipython in /usr/local/lib/python3.6/dist-packages (from ipython-autotime) (5.5.0)\n",
            "Requirement already satisfied: pickleshare in /usr/local/lib/python3.6/dist-packages (from ipython->ipython-autotime) (0.7.5)\n",
            "Requirement already satisfied: prompt-toolkit<2.0.0,>=1.0.4 in /usr/local/lib/python3.6/dist-packages (from ipython->ipython-autotime) (1.0.18)\n",
            "Requirement already satisfied: pygments in /usr/local/lib/python3.6/dist-packages (from ipython->ipython-autotime) (2.6.1)\n",
            "Requirement already satisfied: traitlets>=4.2 in /usr/local/lib/python3.6/dist-packages (from ipython->ipython-autotime) (4.3.3)\n",
            "Requirement already satisfied: simplegeneric>0.8 in /usr/local/lib/python3.6/dist-packages (from ipython->ipython-autotime) (0.8.1)\n",
            "Requirement already satisfied: setuptools>=18.5 in /usr/local/lib/python3.6/dist-packages (from ipython->ipython-autotime) (51.3.3)\n",
            "Requirement already satisfied: pexpect; sys_platform != \"win32\" in /usr/local/lib/python3.6/dist-packages (from ipython->ipython-autotime) (4.8.0)\n",
            "Requirement already satisfied: decorator in /usr/local/lib/python3.6/dist-packages (from ipython->ipython-autotime) (4.4.2)\n",
            "Requirement already satisfied: wcwidth in /usr/local/lib/python3.6/dist-packages (from prompt-toolkit<2.0.0,>=1.0.4->ipython->ipython-autotime) (0.2.5)\n",
            "Requirement already satisfied: six>=1.9.0 in /usr/local/lib/python3.6/dist-packages (from prompt-toolkit<2.0.0,>=1.0.4->ipython->ipython-autotime) (1.15.0)\n",
            "Requirement already satisfied: ipython-genutils in /usr/local/lib/python3.6/dist-packages (from traitlets>=4.2->ipython->ipython-autotime) (0.2.0)\n",
            "Requirement already satisfied: ptyprocess>=0.5 in /usr/local/lib/python3.6/dist-packages (from pexpect; sys_platform != \"win32\"->ipython->ipython-autotime) (0.7.0)\n",
            "The autotime extension is already loaded. To reload it, use:\n",
            "  %reload_ext autotime\n",
            "time: 2.43 s (started: 2021-01-22 18:15:43 +00:00)\n"
          ],
          "name": "stdout"
        }
      ]
    },
    {
      "cell_type": "markdown",
      "metadata": {
        "id": "FX4xkqowhjQ8"
      },
      "source": [
        "1. Extract your dataset and split into train_x, train_y, test_x and test_y.\r\n",
        "2. Execute the following cells"
      ]
    },
    {
      "cell_type": "markdown",
      "metadata": {
        "id": "i24fOph_y2T5"
      },
      "source": [
        "\n",
        "\n",
        "---\n",
        "\n",
        "\n",
        "## Hybrid Social Group Optimization \n",
        "\n",
        "\n",
        "---\n",
        "\n",
        "\n"
      ]
    },
    {
      "cell_type": "code",
      "metadata": {
        "colab": {
          "base_uri": "https://localhost:8080/"
        },
        "id": "Wj9U2QsZwnut",
        "outputId": "0bc8096c-7d8c-41d2-d066-6df5c49934f1"
      },
      "source": [
        "N = 5 # Number of persons in population\n",
        "D = len(train_x.columns) # Number of features in dataset\n",
        "g = 10 # Number of generations\n",
        "c = 0.6 # Self Introspection factor\n",
        "r0 = 1\n",
        "r1 = 0.4\n",
        "r2 = 0.6\n",
        "print(r1, r2)"
      ],
      "execution_count": null,
      "outputs": [
        {
          "output_type": "stream",
          "text": [
            "0.4 0.6\n",
            "time: 3.13 ms (started: 2021-01-22 18:19:07 +00:00)\n"
          ],
          "name": "stdout"
        }
      ]
    },
    {
      "cell_type": "markdown",
      "metadata": {
        "id": "V7dLmpqxznMa"
      },
      "source": [
        "**Population Initialization**"
      ]
    },
    {
      "cell_type": "code",
      "metadata": {
        "colab": {
          "base_uri": "https://localhost:8080/"
        },
        "id": "MF9tbn3PebQo",
        "outputId": "7cebd04e-0035-4963-e1e2-8192b099edd3"
      },
      "source": [
        "population = np.random.choice([0,1,2,3,4,5,6,7,8,9], (N,D), p=[0.16, 0.16, 0.16, 0.16, 0.16, 0.04, 0.04, 0.04, 0.04, 0.04]) #Determines no. of features selected by probablity"
      ],
      "execution_count": null,
      "outputs": [
        {
          "output_type": "stream",
          "text": [
            "time: 5.05 ms (started: 2021-01-22 18:19:07 +00:00)\n"
          ],
          "name": "stdout"
        }
      ]
    },
    {
      "cell_type": "code",
      "metadata": {
        "colab": {
          "base_uri": "https://localhost:8080/"
        },
        "id": "3-9k4nTzlAI3",
        "outputId": "7b468bf9-1554-443a-b0d9-cb533622a843"
      },
      "source": [
        "population = population.astype(float)\n",
        "print(population.shape)\n",
        "population"
      ],
      "execution_count": null,
      "outputs": [
        {
          "output_type": "stream",
          "text": [
            "(5, 10000)\n"
          ],
          "name": "stdout"
        },
        {
          "output_type": "execute_result",
          "data": {
            "text/plain": [
              "array([[1., 4., 5., ..., 4., 7., 2.],\n",
              "       [2., 7., 2., ..., 3., 2., 3.],\n",
              "       [3., 2., 4., ..., 1., 4., 4.],\n",
              "       [3., 7., 3., ..., 0., 4., 7.],\n",
              "       [2., 3., 1., ..., 0., 3., 1.]])"
            ]
          },
          "metadata": {
            "tags": []
          },
          "execution_count": 200
        },
        {
          "output_type": "stream",
          "text": [
            "time: 5.69 ms (started: 2021-01-22 18:19:07 +00:00)\n"
          ],
          "name": "stdout"
        }
      ]
    },
    {
      "cell_type": "code",
      "metadata": {
        "colab": {
          "base_uri": "https://localhost:8080/"
        },
        "id": "DVrzyOabv8Hy",
        "outputId": "a95f6185-c23c-4cda-f5ab-733236349105"
      },
      "source": [
        "fitness = np.zeros(N)\n",
        "test_x.shape"
      ],
      "execution_count": null,
      "outputs": [
        {
          "output_type": "execute_result",
          "data": {
            "text/plain": [
              "(294, 10000)"
            ]
          },
          "metadata": {
            "tags": []
          },
          "execution_count": 201
        },
        {
          "output_type": "stream",
          "text": [
            "time: 2.92 ms (started: 2021-01-22 18:19:07 +00:00)\n"
          ],
          "name": "stdout"
        }
      ]
    },
    {
      "cell_type": "code",
      "metadata": {
        "colab": {
          "base_uri": "https://localhost:8080/"
        },
        "id": "M7wUMmPJ3tX4",
        "outputId": "d8b6c340-a899-4aca-edf2-186246b1f3b2"
      },
      "source": [
        "def fitter_trait(X_old, X_new):\n",
        "  if X_new > X_old:\n",
        "    return X_old\n",
        "  else:\n",
        "    return X_new\n",
        "  \n",
        "  "
      ],
      "execution_count": null,
      "outputs": [
        {
          "output_type": "stream",
          "text": [
            "time: 2.58 ms (started: 2021-01-22 18:19:07 +00:00)\n"
          ],
          "name": "stdout"
        }
      ]
    },
    {
      "cell_type": "markdown",
      "metadata": {
        "id": "HbH88MFI1drL"
      },
      "source": [
        "\n",
        "\n",
        "\n",
        "\n",
        "\n",
        "**Fitness Function**"
      ]
    },
    {
      "cell_type": "code",
      "metadata": {
        "colab": {
          "base_uri": "https://localhost:8080/"
        },
        "id": "XQzWSkp7lG4s",
        "outputId": "280078ba-0f97-4c37-d814-622c0873f6eb"
      },
      "source": [
        "global classifier\n",
        "classifier = Svc #Change classifier here\n",
        "select = train_x.columns\n",
        "selectno = len(train_x.columns)\n",
        "classifier.fit(train_x, train_y)\n",
        "select_acc = classifier.score(test_x, test_y) \n",
        "def fitness_function(pop):  #Fitness Function\n",
        "  \n",
        "  for i in range(N):\n",
        "    new_train_x = train_x\n",
        "    \n",
        "    new_test_x = test_x\n",
        "    \n",
        "    global select\n",
        "    global selectno\n",
        "    global select_acc\n",
        "    \n",
        "    new_train_x = new_train_x.drop(train_x.columns[pop[i] < 4], axis = 1)\n",
        "        \n",
        "    new_test_x = new_test_x.drop(test_x.columns[pop[i] < 4], axis = 1)\n",
        "        \n",
        "    classifier.fit(new_train_x, train_y)  \n",
        "    fitness[i] = classifier.score(new_test_x, test_y) \n",
        "    if (fitness[i] > select_acc):\n",
        "      select = new_train_x.columns\n",
        "      # print(select.shape)\n",
        "      selectno = new_train_x.shape[1]\n",
        "      select_acc = fitness[i]\n",
        "    elif fitness[i] == select_acc and new_train_x.shape[1] < selectno:\n",
        "      select = new_train_x.columns\n",
        "      selectno = new_train_x.shape[1]\n",
        "      \n",
        "    print(\"\\nPerson \"+ str(i+1))\n",
        "    \n",
        "    print(\"No. of Features Used = \"+ str(new_train_x.shape[1])+ \"/\"+str(D)+\"\\nFitness = \" + str(fitness[i]))\n",
        "    print(\"Feature Used = \", end = \" \") \n",
        "    \n",
        "    #print(new_train_x.columns)\n",
        "\n",
        "    print(new_train_x.shape[1])\n",
        "    "
      ],
      "execution_count": null,
      "outputs": [
        {
          "output_type": "stream",
          "text": [
            "time: 5.47 s (started: 2021-01-22 18:19:07 +00:00)\n"
          ],
          "name": "stdout"
        }
      ]
    },
    {
      "cell_type": "code",
      "metadata": {
        "colab": {
          "base_uri": "https://localhost:8080/"
        },
        "id": "zf4rA06wyyA4",
        "outputId": "1c7f2a76-de6b-4e28-c6be-56e742bb37cd"
      },
      "source": [
        "# Initializing Fitness values of population\n",
        "# fitness_function(population) \n",
        "# selectno"
      ],
      "execution_count": null,
      "outputs": [
        {
          "output_type": "stream",
          "text": [
            "time: 785 µs (started: 2021-01-22 18:19:13 +00:00)\n"
          ],
          "name": "stdout"
        }
      ]
    },
    {
      "cell_type": "markdown",
      "metadata": {
        "id": "RjGPUA8d47zc"
      },
      "source": [
        "**Gbest : Fittest person in population**"
      ]
    },
    {
      "cell_type": "code",
      "metadata": {
        "colab": {
          "base_uri": "https://localhost:8080/"
        },
        "id": "9q70o0WHy3bu",
        "outputId": "b715c943-9f10-41cb-ac6f-932a792e7de7"
      },
      "source": [
        "###Determining GBest\n",
        "gbest = 0\n",
        "gbest_i = 0"
      ],
      "execution_count": null,
      "outputs": [
        {
          "output_type": "stream",
          "text": [
            "time: 874 µs (started: 2021-01-22 18:19:13 +00:00)\n"
          ],
          "name": "stdout"
        }
      ]
    },
    {
      "cell_type": "code",
      "metadata": {
        "colab": {
          "base_uri": "https://localhost:8080/"
        },
        "id": "kv8esHtS0Sxd",
        "outputId": "4ee29e15-b308-4bb5-852f-e351ba36b0f4"
      },
      "source": [
        "def find_gbest():\n",
        "  gbest = max(fitness)#This can be any function\n",
        "  gbest_i = fitness.argmax()\n",
        "  print(\"Best fitness value for the generation = \"+str(gbest) + \" Person \" + str(gbest_i+1)+\"\\n\")\n",
        "find_gbest() \n",
        "#we chose maximum fitness value to be better for simplicity\n",
        "def cal_fitness(person):\n",
        "  new_train_x = train_x\n",
        "  \n",
        "  new_test_x = test_x\n",
        "\n",
        "  new_train_x = new_train_x.drop(train_x.columns[person < 4], axis = 1)\n",
        "      \n",
        "  new_test_x = new_test_x.drop(test_x.columns[person < 4], axis = 1)\n",
        "      \n",
        "  classifier.fit(new_train_x, train_y)  \n",
        "  return classifier.score(new_test_x, test_y)\n",
        "\n",
        "cal_fitness(population[0])"
      ],
      "execution_count": null,
      "outputs": [
        {
          "output_type": "stream",
          "text": [
            "Best fitness value for the generation = 0.0 Person 1\n",
            "\n"
          ],
          "name": "stdout"
        },
        {
          "output_type": "execute_result",
          "data": {
            "text/plain": [
              "0.9863945578231292"
            ]
          },
          "metadata": {
            "tags": []
          },
          "execution_count": 206
        },
        {
          "output_type": "stream",
          "text": [
            "time: 1.95 s (started: 2021-01-22 18:19:13 +00:00)\n"
          ],
          "name": "stdout"
        }
      ]
    },
    {
      "cell_type": "code",
      "metadata": {
        "colab": {
          "base_uri": "https://localhost:8080/"
        },
        "id": "4R5OyZUxqZg4",
        "outputId": "dff3c8ef-ea89-4fee-d28f-bb85e442e69c"
      },
      "source": [
        "# new_train_x = train_x\r\n",
        "  \r\n",
        "# new_test_x = test_x\r\n",
        "\r\n",
        "# new_train_x = new_train_x.drop(train_x.columns[person < 4], axis = 1)\r\n",
        "      \r\n",
        "# new_test_x = new_test_x.drop(test_x.columns[person < 4], axis = 1)"
      ],
      "execution_count": null,
      "outputs": [
        {
          "output_type": "stream",
          "text": [
            "time: 913 µs (started: 2021-01-22 18:19:15 +00:00)\n"
          ],
          "name": "stdout"
        }
      ]
    },
    {
      "cell_type": "code",
      "metadata": {
        "colab": {
          "base_uri": "https://localhost:8080/"
        },
        "id": "OcksWgbX6fN2",
        "outputId": "a80a7746-6098-49da-e903-35c66b3aec4f"
      },
      "source": [
        "per1 = np.zeros((1,10000))\n",
        "print(per1.shape)\n",
        "per1[0][5] = 8\n",
        "per1[0][89] = 7\n",
        "per1[0][45] = 6\n",
        "cal_fitness(per1[0])"
      ],
      "execution_count": null,
      "outputs": [
        {
          "output_type": "stream",
          "text": [
            "(1, 10000)\n"
          ],
          "name": "stdout"
        },
        {
          "output_type": "execute_result",
          "data": {
            "text/plain": [
              "0.935374149659864"
            ]
          },
          "metadata": {
            "tags": []
          },
          "execution_count": 208
        },
        {
          "output_type": "stream",
          "text": [
            "time: 41.7 ms (started: 2021-01-22 18:19:15 +00:00)\n"
          ],
          "name": "stdout"
        }
      ]
    },
    {
      "cell_type": "markdown",
      "metadata": {
        "id": "TqA893QvJZKy"
      },
      "source": [
        "\n",
        "\n",
        "---\n",
        "\n",
        "**Mutation Phase**"
      ]
    },
    {
      "cell_type": "code",
      "metadata": {
        "colab": {
          "base_uri": "https://localhost:8080/"
        },
        "id": "A-eUI0R-JYBp",
        "outputId": "63e66c74-daba-489f-c41b-08d14731b674"
      },
      "source": [
        "def mutate():\n",
        "  gworst_i = fitness.argmin()\n",
        "  gworst = min(fitness)\n",
        "  mut = np.random.randint(0,2,size=(1,D))[0]\n",
        "  print(\"Mutating the Generation's Worst....Person \"+ str(gworst_i+1))\n",
        "  for i in range(D):\n",
        "    if mut[i] > 0:\n",
        "      mut[i] = population[gbest_i][i]\n",
        "    else:\n",
        "      mut[i] = population[gworst_i][i]\n",
        "  if cal_fitness(mut) > gworst:\n",
        "    population[gworst_i] = mut\n",
        "    print(\"Person \"+str(gworst_i)+\" mutated\")\n",
        "  else:\n",
        "    print(\"No Mutations in this generation\")"
      ],
      "execution_count": null,
      "outputs": [
        {
          "output_type": "stream",
          "text": [
            "time: 5.35 ms (started: 2021-01-22 18:19:15 +00:00)\n"
          ],
          "name": "stdout"
        }
      ]
    },
    {
      "cell_type": "code",
      "metadata": {
        "colab": {
          "base_uri": "https://localhost:8080/"
        },
        "id": "iZHK4IqM6cIS",
        "outputId": "5653af52-13e9-4726-f222-633f59f0de26"
      },
      "source": [
        "mut = np.random.randint(0,2,size=(1,D))[0]\r\n",
        "mut"
      ],
      "execution_count": null,
      "outputs": [
        {
          "output_type": "execute_result",
          "data": {
            "text/plain": [
              "array([1, 0, 0, ..., 0, 0, 0])"
            ]
          },
          "metadata": {
            "tags": []
          },
          "execution_count": 210
        },
        {
          "output_type": "stream",
          "text": [
            "time: 2.99 ms (started: 2021-01-22 18:19:15 +00:00)\n"
          ],
          "name": "stdout"
        }
      ]
    },
    {
      "cell_type": "code",
      "metadata": {
        "colab": {
          "base_uri": "https://localhost:8080/"
        },
        "id": "ulICxEYzNpB_",
        "outputId": "d73b1dc5-094f-43a7-88d5-044a1547a626"
      },
      "source": [
        "div = pd.DataFrame(np.random.randint(0,2,size=(1,D))[0])\n",
        "# div.iloc[:,div > 0] = population[2][div>0]\n",
        "# div"
      ],
      "execution_count": null,
      "outputs": [
        {
          "output_type": "stream",
          "text": [
            "time: 1.79 ms (started: 2021-01-22 18:19:15 +00:00)\n"
          ],
          "name": "stdout"
        }
      ]
    },
    {
      "cell_type": "markdown",
      "metadata": {
        "id": "dplSq-xb5YJu"
      },
      "source": [
        "\n",
        "\n",
        "---\n",
        "\n",
        "**Improving Phase**"
      ]
    },
    {
      "cell_type": "code",
      "metadata": {
        "colab": {
          "base_uri": "https://localhost:8080/"
        },
        "id": "pHLkjOrK0hw8",
        "outputId": "64d75fe0-d049-4030-b5f1-840a34b257e1"
      },
      "source": [
        "## Improving Phase\n",
        "# i = 1\n",
        "def improve():\n",
        "  print(\"Improving.......\")\n",
        "  for i in range(N):\n",
        "    Xnew = population[i]\n",
        "    print('Persona '+ str(i+1))\n",
        "    for j in range(D):\n",
        "      Xnew[j] = c * population[i][j] + r0 * (population[gbest_i][j] - population[i][j])\n",
        "    try:\n",
        "      if cal_fitness(Xnew) > fitness[i]:\n",
        "        population[i] = Xnew\n",
        "    except:\n",
        "      print(\"Oops!\", sys.exc_info()[0], \"occurred.\")\n",
        "      print(\"Next entry.\")\n",
        "      \n"
      ],
      "execution_count": null,
      "outputs": [
        {
          "output_type": "stream",
          "text": [
            "time: 4.73 ms (started: 2021-01-22 18:19:15 +00:00)\n"
          ],
          "name": "stdout"
        }
      ]
    },
    {
      "cell_type": "code",
      "metadata": {
        "id": "gBSqRsS_d3Ls"
      },
      "source": [
        ""
      ],
      "execution_count": null,
      "outputs": []
    },
    {
      "cell_type": "markdown",
      "metadata": {
        "id": "h0PyX84L5Iih"
      },
      "source": [
        "\n",
        "\n",
        "---\n",
        "\n",
        "**Acquiring Phase**"
      ]
    },
    {
      "cell_type": "code",
      "metadata": {
        "colab": {
          "base_uri": "https://localhost:8080/"
        },
        "id": "bSXqFeUv0i4V",
        "outputId": "2fb4f392-a40f-459d-e3c2-d1d3764fcbf4"
      },
      "source": [
        "## Acquiring Phase\n",
        "def acquire():\n",
        "  random_person = np.random.randint(low=0, high=N)\n",
        "  for i in range(N):\n",
        "    if random_person == i:\n",
        "      random_person = np.random.randint(low=0, high=N)\n",
        "      i = i - 1\n",
        "      continue\n",
        "    X_new = population[i]\n",
        "    if fitness[random_person] > fitness[i]:\n",
        "      for j in range(D):\n",
        "        X_new[j] = population[i][j] + r1*(population[random_person][j]-population[i][j]) + r2*(population[gbest_i][j]-population[i][j])\n",
        "      if cal_fitness(X_new) > fitness[i]:\n",
        "        population[i] = X_new\n",
        "    else:\n",
        "      for j in range(D):\n",
        "        X_new[j] = population[i][j] + r1*(population[i][j]-population[random_person][j]) + r2*(population[gbest_i][j]-population[i][j])\n",
        "      if cal_fitness(X_new) > fitness[i]:\n",
        "        population[i] = X_new\n",
        "      \n"
      ],
      "execution_count": null,
      "outputs": [
        {
          "output_type": "stream",
          "text": [
            "time: 8.58 ms (started: 2021-01-22 18:19:15 +00:00)\n"
          ],
          "name": "stdout"
        }
      ]
    },
    {
      "cell_type": "code",
      "metadata": {
        "colab": {
          "base_uri": "https://localhost:8080/"
        },
        "id": "OdYU6KjMC0xD",
        "outputId": "5d7af250-faf3-4792-ef49-7e7e4f6b7579"
      },
      "source": [
        "#Run\n",
        "try:\n",
        "  for k in range(g):\n",
        "    print(\"Generation \"+ str(k+1) + \"\\n---------------\")\n",
        "    fitness_function(population)\n",
        "    find_gbest()\n",
        "    mutate()\n",
        "    improve()\n",
        "    acquire() \n",
        "except:\n",
        "  print()\n",
        "  print(\"........................\")\n",
        "  print(\"Optimal Solution Reached\")\n",
        "  print(\"........................\")"
      ],
      "execution_count": null,
      "outputs": [
        {
          "output_type": "stream",
          "text": [
            "Generation 1\n",
            "---------------\n",
            "\n",
            "Person 1\n",
            "No. of Features Used = 3582/10000\n",
            "Fitness = 0.9863945578231292\n",
            "Feature Used =  3582\n",
            "\n",
            "Person 2\n",
            "No. of Features Used = 3608/10000\n",
            "Fitness = 0.9897959183673469\n",
            "Feature Used =  3608\n",
            "\n",
            "Person 3\n",
            "No. of Features Used = 3614/10000\n",
            "Fitness = 0.9897959183673469\n",
            "Feature Used =  3614\n",
            "\n",
            "Person 4\n",
            "No. of Features Used = 3570/10000\n",
            "Fitness = 0.9897959183673469\n",
            "Feature Used =  3570\n",
            "\n",
            "Person 5\n",
            "No. of Features Used = 3581/10000\n",
            "Fitness = 0.9897959183673469\n",
            "Feature Used =  3581\n",
            "Best fitness value for the generation = 0.9897959183673469 Person 2\n",
            "\n",
            "Mutating the Generation's Worst....Person 1\n",
            "No Mutations in this generation\n",
            "Improving.......\n",
            "Persona 1\n",
            "Persona 2\n",
            "Persona 3\n",
            "Persona 4\n",
            "Persona 5\n",
            "Generation 2\n",
            "---------------\n",
            "\n",
            "Person 1\n",
            "No. of Features Used = 830/10000\n",
            "Fitness = 0.9897959183673469\n",
            "Feature Used =  830\n",
            "\n",
            "Person 2\n",
            "No. of Features Used = 660/10000\n",
            "Fitness = 0.9863945578231292\n",
            "Feature Used =  660\n",
            "\n",
            "Person 3\n",
            "No. of Features Used = 647/10000\n",
            "Fitness = 0.9829931972789115\n",
            "Feature Used =  647\n",
            "\n",
            "Person 4\n",
            "No. of Features Used = 514/10000\n",
            "Fitness = 0.9897959183673469\n",
            "Feature Used =  514\n",
            "\n",
            "Person 5\n",
            "No. of Features Used = 572/10000\n",
            "Fitness = 0.9829931972789115\n",
            "Feature Used =  572\n",
            "Best fitness value for the generation = 0.9897959183673469 Person 1\n",
            "\n",
            "Mutating the Generation's Worst....Person 3\n",
            "Person 2 mutated\n",
            "Improving.......\n",
            "Persona 1\n",
            "Oops! <class 'ValueError'> occurred.\n",
            "Next entry.\n",
            "Persona 2\n",
            "Oops! <class 'ValueError'> occurred.\n",
            "Next entry.\n",
            "Persona 3\n",
            "Oops! <class 'ValueError'> occurred.\n",
            "Next entry.\n",
            "Persona 4\n",
            "Oops! <class 'ValueError'> occurred.\n",
            "Next entry.\n",
            "Persona 5\n",
            "Oops! <class 'ValueError'> occurred.\n",
            "Next entry.\n",
            "\n",
            "........................\n",
            "Optimal Solution Reached\n",
            "........................\n",
            "time: 17.7 s (started: 2021-01-22 18:19:15 +00:00)\n"
          ],
          "name": "stdout"
        }
      ]
    },
    {
      "cell_type": "code",
      "metadata": {
        "colab": {
          "base_uri": "https://localhost:8080/"
        },
        "id": "pZ0ynj3FzGMG",
        "outputId": "db2a90af-78b2-4427-a72a-fcbe2ead18f6"
      },
      "source": [
        "select.shape"
      ],
      "execution_count": null,
      "outputs": [
        {
          "output_type": "execute_result",
          "data": {
            "text/plain": [
              "(514,)"
            ]
          },
          "metadata": {
            "tags": []
          },
          "execution_count": 215
        },
        {
          "output_type": "stream",
          "text": [
            "time: 2.19 ms (started: 2021-01-22 18:19:32 +00:00)\n"
          ],
          "name": "stdout"
        }
      ]
    },
    {
      "cell_type": "code",
      "metadata": {
        "id": "O9spCEst5xVe"
      },
      "source": [
        ""
      ],
      "execution_count": null,
      "outputs": []
    }
  ]
}